{
 "cells": [
  {
   "cell_type": "code",
   "execution_count": null,
   "metadata": {},
   "outputs": [],
   "source": [
    "'''Question1\n",
    "Create a function that takes three parameters where:\n",
    "x is the start of the range (inclusive).\n",
    "y is the end of the range (inclusive).\n",
    "n is the divisor to be checked against.\n",
    "Return an ordered list with numbers in the range that are divisible by the third parameter n. Return an empty list if there are no numbers that are divisible by n.\n",
    "Examples\n",
    "list_operation(1, 10, 3) ➞ [3, 6, 9]\n",
    "\n",
    "list_operation(7, 9, 2) ➞ [8]\n",
    "\n",
    "list_operation(15, 20, 7) ➞ []\n",
    "\n",
    "Question2\n",
    "Create a function that takes in two lists and returns True if the second list follows the first list by one element, and False otherwise. In other words, determine if the second list is the first list shifted to the right by 1.\n",
    "Examples\n",
    "simon_says([1, 2], [5, 1]) ➞ True\n",
    "\n",
    "simon_says([1, 2], [5, 5]) ➞ False\n",
    "\n",
    "simon_says([1, 2, 3, 4, 5], [0, 1, 2, 3, 4]) ➞ True\n",
    "\n",
    "simon_says([1, 2, 3, 4, 5], [5, 5, 1, 2, 3]) ➞ False\n",
    "Notes\n",
    "Both input lists will be of the same length, and will have a minimum length of 2.\n",
    "The values of the 0-indexed element in the second list and the n-1th indexed element in the first list do not matter.\n",
    "\n",
    "Question3\n",
    "A group of friends have decided to start a secret society. The name will be the first letter of each of their names, sorted in alphabetical order.\n",
    "Create a function that takes in a list of names and returns the name of the secret society.\n",
    "Examples\n",
    "society_name([\"Adam\", \"Sarah\", \"Malcolm\"]) ➞ \"AMS\"\n",
    "\n",
    "society_name([\"Harry\", \"Newt\", \"Luna\", \"Cho\"]) ➞ \"CHLN\"\n",
    "\n",
    "society_name([\"Phoebe\", \"Chandler\", \"Rachel\", \"Ross\", \"Monica\", \"Joey\"])\n",
    "\n",
    "Question4\n",
    "An isogram is a word that has no duplicate letters. Create a function that takes a string and returns either True or False depending on whether or not it's an \"isogram\".\n",
    "Examples\n",
    "is_isogram(\"Algorism\") ➞ True\n",
    "\n",
    "is_isogram(\"PasSword\") ➞ False\n",
    "# Not case sensitive.\n",
    "\n",
    "is_isogram(\"Consecutive\") ➞ False\n",
    "Notes\n",
    "Ignore letter case (should not be case sensitive).\n",
    "All test cases contain valid one word strings.\n",
    "\n",
    "Question5\n",
    "Create a function that takes a string and returns True or False, depending on whether the characters are in order or not.\n",
    "Examples\n",
    "is_in_order(\"abc\") ➞ True\n",
    "\n",
    "is_in_order(\"edabit\") ➞ False\n",
    "\n",
    "is_in_order(\"123\") ➞ True\n",
    "\n",
    "is_in_order(\"xyzz\") ➞ True\n",
    "Notes\n",
    "You don't have to handle empty strings.\n",
    "\n",
    "'''"
   ]
  },
  {
   "cell_type": "code",
   "execution_count": null,
   "metadata": {},
   "outputs": [],
   "source": [
    "'''Question1\n",
    "Create a function that takes three parameters where:\n",
    "x is the start of the range (inclusive).\n",
    "y is the end of the range (inclusive).\n",
    "n is the divisor to be checked against.\n",
    "Return an ordered list with numbers in the range that are divisible by the third parameter n. Return an empty list if there are no numbers that are divisible by n.\n",
    "Examples\n",
    "list_operation(1, 10, 3) ➞ [3, 6, 9]\n",
    "\n",
    "list_operation(7, 9, 2) ➞ [8]\n",
    "\n",
    "list_operation(15, 20, 7) ➞ []\n",
    "'''"
   ]
  },
  {
   "cell_type": "code",
   "execution_count": 2,
   "metadata": {},
   "outputs": [
    {
     "name": "stdout",
     "output_type": "stream",
     "text": [
      "[3, 6, 9]\n",
      "[]\n"
     ]
    }
   ],
   "source": [
    "def list_op(x,y,n):\n",
    "    lis=[]\n",
    "    for i in range(x,y+1):\n",
    "        if i%n==0:\n",
    "            lis.append(i)\n",
    "    return lis\n",
    "print(list_op(1,10,3))\n",
    "print(list_op(15,20,7))\n"
   ]
  },
  {
   "cell_type": "code",
   "execution_count": null,
   "metadata": {},
   "outputs": [],
   "source": [
    "'''Question2\n",
    "Create a function that takes in two lists and returns True if the second list follows the first list by one element, and False otherwise. In other words, determine if the second list is the first list shifted to the right by 1.\n",
    "Examples\n",
    "simon_says([1, 2], [5, 1]) ➞ True\n",
    "\n",
    "simon_says([1, 2], [5, 5]) ➞ False\n",
    "\n",
    "simon_says([1, 2, 3, 4, 5], [0, 1, 2, 3, 4]) ➞ True\n",
    "\n",
    "simon_says([1, 2, 3, 4, 5], [5, 5, 1, 2, 3]) ➞ False\n",
    "Notes\n",
    "Both input lists will be of the same length, and will have a minimum length of 2.\n",
    "The values of the 0-indexed element in the second list and the n-1th indexed element in the first list do not matter.\n",
    "'''"
   ]
  },
  {
   "cell_type": "code",
   "execution_count": 7,
   "metadata": {},
   "outputs": [
    {
     "name": "stdout",
     "output_type": "stream",
     "text": [
      "True\n",
      "False\n",
      "True\n"
     ]
    }
   ],
   "source": [
    "def simon_says(lis1,lis2):\n",
    "    for i in range(len(lis1)-1):\n",
    "        if lis1[i]==lis2[i+1]:\n",
    "            pass\n",
    "        else:\n",
    "            return False\n",
    "            break\n",
    "    else:\n",
    "        return True\n",
    "print(simon_says([1, 2, 3, 4, 5], [0, 1, 2, 3, 4]))\n",
    "print(simon_says([1, 2, 3, 4, 5], [5, 5, 1, 2, 3]))       \n",
    "print(simon_says([1, 2], [5, 1]))"
   ]
  },
  {
   "cell_type": "code",
   "execution_count": null,
   "metadata": {},
   "outputs": [],
   "source": [
    "'''\n",
    "Question3\n",
    "A group of friends have decided to start a secret society. The name will be the first letter of each of their names, sorted in alphabetical order.\n",
    "Create a function that takes in a list of names and returns the name of the secret society.\n",
    "Examples\n",
    "society_name([\"Adam\", \"Sarah\", \"Malcolm\"]) ➞ \"AMS\"\n",
    "\n",
    "society_name([\"Harry\", \"Newt\", \"Luna\", \"Cho\"]) ➞ \"CHLN\"\n",
    "\n",
    "society_name([\"Phoebe\", \"Chandler\", \"Rachel\", \"Ross\", \"Monica\", \"Joey\"])'''"
   ]
  },
  {
   "cell_type": "code",
   "execution_count": 13,
   "metadata": {},
   "outputs": [
    {
     "name": "stdout",
     "output_type": "stream",
     "text": [
      "CHLN\n",
      "AMS\n"
     ]
    }
   ],
   "source": [
    "def society(lis):\n",
    "    string=''\n",
    "    for i in lis:\n",
    "        string=string+i[0]\n",
    "    return ''.join(sorted(string))\n",
    "print(society([\"Harry\", \"Newt\", \"Luna\", \"Cho\"]))\n",
    "print(society([\"Adam\", \"Sarah\", \"Malcolm\"]))\n",
    "        "
   ]
  },
  {
   "cell_type": "code",
   "execution_count": null,
   "metadata": {},
   "outputs": [],
   "source": [
    "'''Question4\n",
    "An isogram is a word that has no duplicate letters. Create a function that takes a string and returns either True or False depending on whether or not it's an \"isogram\".\n",
    "Examples\n",
    "is_isogram(\"Algorism\") ➞ True\n",
    "\n",
    "is_isogram(\"PasSword\") ➞ False\n",
    "# Not case sensitive.\n",
    "\n",
    "is_isogram(\"Consecutive\") ➞ False\n",
    "Notes\n",
    "Ignore letter case (should not be case sensitive).\n",
    "All test cases contain valid one word strings.'''"
   ]
  },
  {
   "cell_type": "code",
   "execution_count": 21,
   "metadata": {},
   "outputs": [
    {
     "name": "stdout",
     "output_type": "stream",
     "text": [
      "False\n",
      "True\n",
      "False\n",
      "False\n"
     ]
    }
   ],
   "source": [
    "def is_isogram(string):\n",
    "    string=string.lower()\n",
    "    for i in string:\n",
    "        if string.count(i)>=2:\n",
    "            return False\n",
    "            break\n",
    "    return True\n",
    "print(is_isogram(\"Consecutive\"))\n",
    "print(is_isogram(\"Algorism\"))  \n",
    "print(is_isogram(\"PasSword\"))\n",
    "print(is_isogram(\"PasSwooOrRd\"))\n",
    "    "
   ]
  },
  {
   "cell_type": "code",
   "execution_count": null,
   "metadata": {},
   "outputs": [],
   "source": [
    "'''Question5\n",
    "Create a function that takes a string and returns True or False, depending on whether the characters are in order or not.\n",
    "Examples\n",
    "is_in_order(\"abc\") ➞ True\n",
    "\n",
    "is_in_order(\"edabit\") ➞ False\n",
    "\n",
    "is_in_order(\"123\") ➞ True\n",
    "\n",
    "is_in_order(\"xyzz\") ➞ True\n",
    "Notes\n",
    "You don't have to handle empty strings.\n",
    "'''"
   ]
  },
  {
   "cell_type": "code",
   "execution_count": 21,
   "metadata": {},
   "outputs": [
    {
     "name": "stdout",
     "output_type": "stream",
     "text": [
      "False\n",
      "False\n",
      "True\n",
      "False\n"
     ]
    }
   ],
   "source": [
    "def is_in_order(string):\n",
    "    lis=[]\n",
    "    al='abcdefghijklmnopqrstuvwxyzzzzzzzz'\n",
    "    for i in range(10):\n",
    "        lis.append(str(i))\n",
    "    aph=[]\n",
    "    for i in al:\n",
    "        aph.append(i)\n",
    "    \n",
    "    lis2=list(string)\n",
    "    res = []\n",
    "    for i in lis2:\n",
    "        if i not in res or res.index(i)!=(len(res)-1):\n",
    "            res.append(i)\n",
    "    a=res[0]\n",
    "    if a in aph:\n",
    "        s=al.index(a)\n",
    "        for i in range(len(res)):\n",
    "            if res[i]==al[s]:\n",
    "                s=s+1\n",
    "            else:\n",
    "                return False\n",
    "                break\n",
    "        return True\n",
    "    elif a in lis:\n",
    "        s=lis.index(a)\n",
    "        for i in range(len(res)):\n",
    "            if res[i]==lis[s]:\n",
    "                s=s+1\n",
    "            else:\n",
    "                return False\n",
    "                break\n",
    "        return True\n",
    "    \n",
    "    \n",
    "print(is_in_order(\"xyzzx\"))\n",
    "print(is_in_order(\"edabit\"))\n",
    "print(is_in_order(\"123\")) \n",
    "print(is_in_order(\"1231\"))\n",
    "     \n",
    "            \n",
    "    "
   ]
  },
  {
   "cell_type": "code",
   "execution_count": null,
   "metadata": {},
   "outputs": [],
   "source": []
  },
  {
   "cell_type": "code",
   "execution_count": null,
   "metadata": {},
   "outputs": [],
   "source": []
  }
 ],
 "metadata": {
  "kernelspec": {
   "display_name": "Python 3",
   "language": "python",
   "name": "python3"
  },
  "language_info": {
   "codemirror_mode": {
    "name": "ipython",
    "version": 3
   },
   "file_extension": ".py",
   "mimetype": "text/x-python",
   "name": "python",
   "nbconvert_exporter": "python",
   "pygments_lexer": "ipython3",
   "version": "3.8.5"
  }
 },
 "nbformat": 4,
 "nbformat_minor": 4
}
